{
 "cells": [
  {
   "cell_type": "code",
   "execution_count": 1,
   "metadata": {},
   "outputs": [],
   "source": [
    "import pandas as pd\n",
    "import random\n",
    "import math\n",
    "import numpy as np"
   ]
  },
  {
   "cell_type": "code",
   "execution_count": 2,
   "metadata": {},
   "outputs": [
    {
     "data": {
      "text/html": [
       "<div>\n",
       "<style scoped>\n",
       "    .dataframe tbody tr th:only-of-type {\n",
       "        vertical-align: middle;\n",
       "    }\n",
       "\n",
       "    .dataframe tbody tr th {\n",
       "        vertical-align: top;\n",
       "    }\n",
       "\n",
       "    .dataframe thead th {\n",
       "        text-align: right;\n",
       "    }\n",
       "</style>\n",
       "<table border=\"1\" class=\"dataframe\">\n",
       "  <thead>\n",
       "    <tr style=\"text-align: right;\">\n",
       "      <th></th>\n",
       "      <th>word</th>\n",
       "    </tr>\n",
       "  </thead>\n",
       "  <tbody>\n",
       "    <tr>\n",
       "      <th>0</th>\n",
       "      <td>aahed</td>\n",
       "    </tr>\n",
       "    <tr>\n",
       "      <th>1</th>\n",
       "      <td>aalii</td>\n",
       "    </tr>\n",
       "    <tr>\n",
       "      <th>2</th>\n",
       "      <td>aargh</td>\n",
       "    </tr>\n",
       "    <tr>\n",
       "      <th>3</th>\n",
       "      <td>aarti</td>\n",
       "    </tr>\n",
       "    <tr>\n",
       "      <th>4</th>\n",
       "      <td>abaca</td>\n",
       "    </tr>\n",
       "  </tbody>\n",
       "</table>\n",
       "</div>"
      ],
      "text/plain": [
       "    word\n",
       "0  aahed\n",
       "1  aalii\n",
       "2  aargh\n",
       "3  aarti\n",
       "4  abaca"
      ]
     },
     "execution_count": 2,
     "metadata": {},
     "output_type": "execute_result"
    }
   ],
   "source": [
    "#data = pd.read_csv('./wordle_data/possible_words.txt', header = None)\n",
    "data = pd.read_csv('./wordle_data/allowed_words.txt', header = None)\n",
    "data.columns = ['word']\n",
    "data.head()"
   ]
  },
  {
   "cell_type": "code",
   "execution_count": 3,
   "metadata": {},
   "outputs": [],
   "source": [
    "def compare_word(w_target,w_guess):\n",
    "    out = []\n",
    "    for i in range(5):\n",
    "        temp = 0\n",
    "        if w_guess[i] in w_target:\n",
    "            temp = 1\n",
    "            if w_guess[i] == w_target[i]:\n",
    "                temp = 2\n",
    "        else:\n",
    "            temp  = 0\n",
    "        out.append(temp)\n",
    "    return out"
   ]
  },
  {
   "cell_type": "code",
   "execution_count": 4,
   "metadata": {},
   "outputs": [
    {
     "data": {
      "text/plain": [
       "[2, 0, 0, 0, 0]"
      ]
     },
     "execution_count": 4,
     "metadata": {},
     "output_type": "execute_result"
    }
   ],
   "source": [
    "compare_word('chick', 'crane')"
   ]
  },
  {
   "cell_type": "code",
   "execution_count": 5,
   "metadata": {},
   "outputs": [],
   "source": [
    "def wordle_game(df):\n",
    "    st = str(input('Start worlde game? y or n? '))\n",
    "    if st == 'y':\n",
    "        target = random.choice(df.word)\n",
    "        state = 0\n",
    "        temp_sum = 0\n",
    "        data_his = []\n",
    "        guess_his = []\n",
    "        print('=======')\n",
    "        while (state <6) and (temp_sum<10):\n",
    "            method = 1\n",
    "            guess = choose_word(data_his, guess_his,df,method)\n",
    "            while guess not in list(df.word):\n",
    "                guess = str(input('WORD not in the list, guess again: '))\n",
    "            guess_his.append(guess)\n",
    "            out_compare = compare_word(target, guess)\n",
    "            data_his.append(out_compare)\n",
    "            print(', '.join(guess))\n",
    "            print(', '.join([str(x) for x in out_compare]))\n",
    "#            print([char for char in guess])\n",
    "#            print([str(x) for x in out_compare])\n",
    "            print()\n",
    "            state = state + 1\n",
    "            temp_sum = sum(out_compare)\n",
    "        if temp_sum == 10:\n",
    "            print('WINNN')\n",
    "        else:\n",
    "            print('LOSE HIU HIU, target word is \"{}\"'.format(target))\n",
    "        return None\n",
    "    \n",
    "def choose_word(data_his, guess_his, df,method):\n",
    "    if method == 0:\n",
    "        gss = str(input('Guess b*tch: '))\n",
    "        return gss\n",
    "    if method == 0.5:\n",
    "        all_word = find_all_word(data_his, guess_his, df)\n",
    "        if len(data_his) > 0:\n",
    "            if len(all_word) >= 5:\n",
    "                print('Posible word: ' + ', '.join(all_word[:4]))\n",
    "            else:\n",
    "                print('Posible word: ' + ', '.join(all_word))\n",
    "        gss = str(input('Guess b*tch: '))\n",
    "        return gss\n",
    "    if method == 1:\n",
    "        if len(data_his) > 0:\n",
    "            all_word = find_all_word(data_his, guess_his, df)\n",
    "            if len(all_word) >= 5:\n",
    "                print('Posible word: ' + ', '.join(all_word[:4]))\n",
    "            else:\n",
    "                print('Posible word: ' + ', '.join(all_word))\n",
    "            max_en, en_score = calculate_totel_entropy(all_word, df)\n",
    "            en_score = [str(np.round(x,3)) for x in en_score]\n",
    "            win_able = len(data_his) + len(all_word)\n",
    "            if win_able > 6:\n",
    "                print('Best guess: ' + ', '.join(max_en))\n",
    "                print('Score guess: ' + ', '.join(en_score))\n",
    "        gss = str(input('Guess b*tch: '))\n",
    "        return gss\n",
    "    if method == 2:\n",
    "        if len(data_his) > 0:\n",
    "            all_word = find_all_word(data_his, guess_his, df)\n",
    "            win_able = len(data_his) + len(all_word)\n",
    "            if win_able > 6:\n",
    "                max_en, en_score = calculate_totel_entropy_auto(all_word, df)\n",
    "                return max_en\n",
    "            else:\n",
    "                return all_word[0]\n",
    "        else:\n",
    "            return 'crane'\n",
    "        "
   ]
  },
  {
   "cell_type": "code",
   "execution_count": 13,
   "metadata": {},
   "outputs": [
    {
     "name": "stdin",
     "output_type": "stream",
     "text": [
      "Start worlde game? y or n?  y\n"
     ]
    },
    {
     "name": "stdout",
     "output_type": "stream",
     "text": [
      "=======\n"
     ]
    },
    {
     "name": "stdin",
     "output_type": "stream",
     "text": [
      "Guess b*tch:  crane\n"
     ]
    },
    {
     "name": "stdout",
     "output_type": "stream",
     "text": [
      "c, r, a, n, e\n",
      "0, 0, 1, 0, 1\n",
      "\n",
      "Posible word: aahed, abbed, abbes, abbey\n",
      "Best guess: dalts, malts, halts, delts, talas, tales, talks, palms, melts, balds\n",
      "Score guess: 5.127, 5.087, 4.906, 4.891, 4.869, 4.857, 4.853, 4.846, 4.83, 4.822\n"
     ]
    },
    {
     "name": "stdin",
     "output_type": "stream",
     "text": [
      "Guess b*tch:  dalts\n"
     ]
    },
    {
     "name": "stdout",
     "output_type": "stream",
     "text": [
      "d, a, l, t, s\n",
      "1, 1, 0, 0, 0\n",
      "\n",
      "Posible word: abbed, added, adeem, adieu\n",
      "Best guess: imbed, humid, aphid, hided, embed, muxed, bemud, bided, bimah, bedim\n",
      "Score guess: 3.584, 3.541, 3.484, 3.484, 3.484, 3.422, 3.422, 3.384, 3.346, 3.346\n"
     ]
    },
    {
     "name": "stdin",
     "output_type": "stream",
     "text": [
      "Guess b*tch:  imbed\n"
     ]
    },
    {
     "name": "stdout",
     "output_type": "stream",
     "text": [
      "i, m, b, e, d\n",
      "0, 0, 1, 1, 2\n",
      "\n",
      "Posible word: bedad, begad\n"
     ]
    },
    {
     "name": "stdin",
     "output_type": "stream",
     "text": [
      "Guess b*tch:  bedad\n"
     ]
    },
    {
     "name": "stdout",
     "output_type": "stream",
     "text": [
      "b, e, d, a, d\n",
      "2, 2, 1, 2, 2\n",
      "\n",
      "Posible word: begad\n"
     ]
    },
    {
     "name": "stdin",
     "output_type": "stream",
     "text": [
      "Guess b*tch:  begad\n"
     ]
    },
    {
     "name": "stdout",
     "output_type": "stream",
     "text": [
      "b, e, g, a, d\n",
      "2, 2, 2, 2, 2\n",
      "\n",
      "WINNN\n"
     ]
    }
   ],
   "source": [
    "wordle_game(data)"
   ]
  },
  {
   "cell_type": "code",
   "execution_count": 7,
   "metadata": {},
   "outputs": [],
   "source": [
    "def find_all_word(data_his, guess_his,df):\n",
    "    lsts  = list(df.word)\n",
    "    out = []\n",
    "    for lst in lsts:\n",
    "        if check_meet_his(lst,data_his, guess_his):\n",
    "            out.append(lst)\n",
    "    return out\n",
    "        \n",
    "def check_meet_his(guess, data_his, guess_his):\n",
    "    for i in range(len(guess_his)):\n",
    "        temp = compare_word(guess, guess_his[i])\n",
    "        tempp = data_his[i]\n",
    "        for j in range(5):\n",
    "            if temp[j] != tempp[j]:\n",
    "                return False\n",
    "    return True"
   ]
  },
  {
   "cell_type": "code",
   "execution_count": 8,
   "metadata": {},
   "outputs": [
    {
     "name": "stdout",
     "output_type": "stream",
     "text": [
      "True\n",
      "['bezil', 'deils', 'devil', 'kevil', 'lepid', 'levis', 'lewis', 'lexis', 'seils', 'veils', 'veily', 'vexil', 'weils']\n"
     ]
    }
   ],
   "source": [
    "dt_his = [[0, 0, 0, 0, 1],[0, 1, 0, 0, 0],[0, 2, 1, 0, 0]]\n",
    "gss_his = ['crane','fight','melon']\n",
    "print(check_meet_his('kevil', dt_his, gss_his))\n",
    "print(find_all_word(dt_his, gss_his,data))"
   ]
  },
  {
   "cell_type": "code",
   "execution_count": 9,
   "metadata": {},
   "outputs": [],
   "source": [
    "def calculate_entropy(guess, all_pool):\n",
    "    lst_score = []\n",
    "    for w in all_pool:\n",
    "        out_compare = compare_word(w, guess)\n",
    "        temp = 0\n",
    "        for i in range(5):\n",
    "            temp = 3 * temp + out_compare[i]\n",
    "        lst_score.append(temp)\n",
    "    set_score = set(lst_score)\n",
    "    fre = {x:lst_score.count(x) for x in set_score}\n",
    "    temp = 0\n",
    "    for js in set_score:\n",
    "        temp = temp + math.log2(len(all_pool)/fre[js])*fre[js]/len(all_pool)\n",
    "    return temp\n",
    "\n",
    "def calculate_totel_entropy(all_pool, df):\n",
    "    list1 = list(df.word)\n",
    "    list2 = []\n",
    "    for il in list1:\n",
    "        score = calculate_entropy(il, all_pool)\n",
    "        list2.append(score)\n",
    "    list2, list1 = zip(*sorted(zip(list2, list1), reverse = True))\n",
    "    return list1[:10], list2[:10]\n",
    "\n",
    "def calculate_totel_entropy_auto(all_pool, df):\n",
    "    list1 = list(df.word)\n",
    "    list2 = []\n",
    "    for il in list1:\n",
    "        score = calculate_entropy(il, all_pool)\n",
    "        list2.append(score)\n",
    "    idx = list2.index(max(list2))\n",
    "    return list1[idx], list2[idx]"
   ]
  },
  {
   "cell_type": "markdown",
   "metadata": {},
   "source": [
    "# Automation"
   ]
  },
  {
   "cell_type": "code",
   "execution_count": 16,
   "metadata": {},
   "outputs": [],
   "source": [
    "def wordle_game_auto(df,idd,method):\n",
    "    print(idd)\n",
    "    target = list(df.word)[idd]\n",
    "    state = 0\n",
    "    temp_sum = 0\n",
    "    data_his = []\n",
    "    guess_his = []\n",
    "#    print('=======')\n",
    "    while (state <6) and (temp_sum<10):\n",
    "        guess = choose_word(data_his, guess_his,df,method)\n",
    "        guess_his.append(guess)\n",
    "        out_compare = compare_word(target, guess)\n",
    "        data_his.append(out_compare)\n",
    "#        print(', '.join(guess))\n",
    "#        print(', '.join([str(x) for x in out_compare]))\n",
    "#            print([char for char in guess])\n",
    "#            print([str(x) for x in out_compare])\n",
    "        state = state + 1\n",
    "        temp_sum = sum(out_compare)\n",
    "    if temp_sum == 10:\n",
    "        return 1, len(guess_his)\n",
    "    else:\n",
    "        return 0, 7"
   ]
  },
  {
   "cell_type": "code",
   "execution_count": 12,
   "metadata": {},
   "outputs": [
    {
     "data": {
      "text/plain": [
       "12972"
      ]
     },
     "execution_count": 12,
     "metadata": {},
     "output_type": "execute_result"
    }
   ],
   "source": [
    "len(data)"
   ]
  },
  {
   "cell_type": "code",
   "execution_count": 20,
   "metadata": {},
   "outputs": [],
   "source": [
    "test = [1,2,3]\n",
    "np.save('test.npy', test)"
   ]
  }
 ],
 "metadata": {
  "kernelspec": {
   "display_name": "Python 3",
   "language": "python",
   "name": "python3"
  },
  "language_info": {
   "codemirror_mode": {
    "name": "ipython",
    "version": 3
   },
   "file_extension": ".py",
   "mimetype": "text/x-python",
   "name": "python",
   "nbconvert_exporter": "python",
   "pygments_lexer": "ipython3",
   "version": "3.7.4"
  }
 },
 "nbformat": 4,
 "nbformat_minor": 4
}
